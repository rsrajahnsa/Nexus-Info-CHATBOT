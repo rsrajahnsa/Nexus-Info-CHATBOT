{
 "cells": [
  {
   "cell_type": "code",
   "execution_count": 1,
   "id": "df1c1627-d1a2-41b8-a063-e1301da2baa1",
   "metadata": {},
   "outputs": [],
   "source": [
    "import random\n",
    "import json\n",
    "import pickle\n",
    "import numpy as np\n",
    "\n",
    "import nltk\n",
    "from nltk.stem import WordNetLemmatizer\n",
    "\n",
    "from tensorflow.keras.models import load_model\n"
   ]
  },
  {
   "cell_type": "code",
   "execution_count": 2,
   "id": "3f59f843-ac21-41de-8d38-5177a8f07f40",
   "metadata": {},
   "outputs": [
    {
     "name": "stderr",
     "output_type": "stream",
     "text": [
      "C:\\Users\\Sudarshan\\AppData\\Local\\Programs\\Python\\Python311\\Lib\\site-packages\\keras\\src\\layers\\core\\dense.py:85: UserWarning: Do not pass an `input_shape`/`input_dim` argument to a layer. When using Sequential models, prefer using an `Input(shape)` object as the first layer in the model instead.\n",
      "  super().__init__(activity_regularizer=activity_regularizer, **kwargs)\n",
      "C:\\Users\\Sudarshan\\AppData\\Local\\Programs\\Python\\Python311\\Lib\\site-packages\\keras\\src\\optimizers\\base_optimizer.py:34: UserWarning: Argument `decay` is no longer supported and will be ignored.\n",
      "  warnings.warn(\n",
      "WARNING:absl:Compiled the loaded model, but the compiled metrics have yet to be built. `model.compile_metrics` will be empty until you train or evaluate the model.\n",
      "WARNING:absl:Error in loading the saved optimizer state. As a result, your model is starting with a freshly initialized optimizer.\n"
     ]
    }
   ],
   "source": [
    "lemmatizer = WordNetLemmatizer()\n",
    "\n",
    "intents = json.loads(open('intents.json').read())\n",
    "\n",
    "words = pickle.load(open('words.pkl', 'rb'))\n",
    "classes = pickle.load(open('classes.pkl', 'rb'))\n",
    "model = load_model('chatbotmodel.h5')"
   ]
  },
  {
   "cell_type": "code",
   "execution_count": 3,
   "id": "f6d9ad17-ebaf-4822-9044-728fbff962f2",
   "metadata": {},
   "outputs": [],
   "source": [
    "def clean_up_sentence(sentence):\n",
    "    sentence_words = nltk.word_tokenize(sentence)\n",
    "    sentence_words = [lemmatizer.lemmatize(word)  for word in sentence_words]\n",
    "    return sentence_words"
   ]
  },
  {
   "cell_type": "code",
   "execution_count": 4,
   "id": "b2e6369a-096e-4310-853e-0d5e5ef941d0",
   "metadata": {},
   "outputs": [],
   "source": [
    "def bag_of_words(sentence):\n",
    "    sentence_words= clean_up_sentence(sentence)\n",
    "    bag = [0] * len(words)\n",
    "    for w in sentence_words:\n",
    "        for i, word in enumerate(words):\n",
    "            if word == w:\n",
    "                bag[i] = 1\n",
    "\n",
    "    return np.array(bag)\n"
   ]
  },
  {
   "cell_type": "code",
   "execution_count": 5,
   "id": "5880dc7e-51f0-4146-ba6a-756bd19dc409",
   "metadata": {},
   "outputs": [],
   "source": [
    "def predict_class(sentence):\n",
    "    bow = bag_of_words(sentence)\n",
    "    res = model.predict(np.array([bow]))[0]\n",
    "    ERROR_THRESHOLD = 0.25\n",
    "    results = [[i,r] for i, r in enumerate(res) if r > ERROR_THRESHOLD]\n",
    "\n",
    "    results.sort(key=lambda  x:x[1], reverse=True)\n",
    "    return_list = []\n",
    "    for r in results:\n",
    "        return_list.append({'intent': classes[r[0]], 'probability': str(r[1])})\n",
    "    return return_list"
   ]
  },
  {
   "cell_type": "code",
   "execution_count": 6,
   "id": "3af73735-d3f8-4da4-a76f-4df4d27ce124",
   "metadata": {},
   "outputs": [],
   "source": [
    "def get_response(intents_list,intents_json):\n",
    "    tag= intents_list[0]['intent']\n",
    "    list_of_intents =intents_json['intents']\n",
    "    for i in list_of_intents:\n",
    "        if i['tag'] == tag:\n",
    "            result = random.choice(i['responses'])\n",
    "            break\n",
    "    return result"
   ]
  },
  {
   "cell_type": "code",
   "execution_count": null,
   "id": "84fc8c11-555f-4d76-89ea-d659ed3d4e01",
   "metadata": {},
   "outputs": [
    {
     "name": "stdout",
     "output_type": "stream",
     "text": [
      "|============= Welcome to College Equiry Chatbot System! =============|\n",
      "|============================== Feel Free ============================|\n",
      "|================================== To ===============================|\n",
      "|=============== Ask your any query about our college ================|\n"
     ]
    },
    {
     "name": "stdin",
     "output_type": "stream",
     "text": [
      "| You:  hi\n"
     ]
    },
    {
     "name": "stdout",
     "output_type": "stream",
     "text": [
      "\u001b[1m1/1\u001b[0m \u001b[32m━━━━━━━━━━━━━━━━━━━━\u001b[0m\u001b[37m\u001b[0m \u001b[1m0s\u001b[0m 144ms/step\n",
      "| Bot: Hey!\n"
     ]
    },
    {
     "name": "stdin",
     "output_type": "stream",
     "text": [
      "| You:  how are you?\n"
     ]
    },
    {
     "name": "stdout",
     "output_type": "stream",
     "text": [
      "\u001b[1m1/1\u001b[0m \u001b[32m━━━━━━━━━━━━━━━━━━━━\u001b[0m\u001b[37m\u001b[0m \u001b[1m0s\u001b[0m 44ms/step\n",
      "| Bot: Happy to help!\n"
     ]
    }
   ],
   "source": [
    "print(\"|============= Welcome to College Equiry Chatbot System! =============|\")\n",
    "print(\"|============================== Feel Free ============================|\")\n",
    "print(\"|================================== To ===============================|\")\n",
    "print(\"|=============== Ask your any query about our college ================|\")\n",
    "while True:\n",
    "    message = input(\"| You: \")\n",
    "    if message == \"bye\" or message == \"Goodbye\":\n",
    "        ints = predict_class(message)\n",
    "        res = get_response(ints, intents)\n",
    "        print(\"| Bot:\", res)\n",
    "        print(\"|===================== The Program End here! =====================|\")\n",
    "        exit()\n",
    "\n",
    "    else:\n",
    "        ints = predict_class(message)\n",
    "        res = get_response(ints, intents)\n",
    "        print(\"| Bot:\", res)"
   ]
  },
  {
   "cell_type": "code",
   "execution_count": null,
   "id": "9400527c-b923-411b-b10f-87c944dba1bf",
   "metadata": {},
   "outputs": [],
   "source": []
  }
 ],
 "metadata": {
  "kernelspec": {
   "display_name": "Python 3 (ipykernel)",
   "language": "python",
   "name": "python3"
  },
  "language_info": {
   "codemirror_mode": {
    "name": "ipython",
    "version": 3
   },
   "file_extension": ".py",
   "mimetype": "text/x-python",
   "name": "python",
   "nbconvert_exporter": "python",
   "pygments_lexer": "ipython3",
   "version": "3.11.3"
  }
 },
 "nbformat": 4,
 "nbformat_minor": 5
}
